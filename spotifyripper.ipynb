{
 "cells": [
  {
   "cell_type": "code",
   "execution_count": 4,
   "metadata": {},
   "outputs": [
    {
     "name": "stdout",
     "output_type": "stream",
     "text": [
      "Requirement already satisfied: spotdl in ./.venv/lib/python3.12/site-packages (4.2.8)\n",
      "Requirement already satisfied: beautifulsoup4<5.0.0,>=4.12.3 in ./.venv/lib/python3.12/site-packages (from spotdl) (4.12.3)\n",
      "Requirement already satisfied: fastapi<0.104.0,>=0.103.0 in ./.venv/lib/python3.12/site-packages (from spotdl) (0.103.2)\n",
      "Requirement already satisfied: mutagen<2.0.0,>=1.47.0 in ./.venv/lib/python3.12/site-packages (from spotdl) (1.47.0)\n",
      "Requirement already satisfied: platformdirs<5.0.0,>=4.2.2 in ./.venv/lib/python3.12/site-packages (from spotdl) (4.3.6)\n",
      "Requirement already satisfied: pydantic<3.0.0,>=2.9.0 in ./.venv/lib/python3.12/site-packages (from spotdl) (2.9.2)\n",
      "Requirement already satisfied: pykakasi<3.0.0,>=2.3.0 in ./.venv/lib/python3.12/site-packages (from spotdl) (2.3.0)\n",
      "Requirement already satisfied: python-slugify<9.0.0,>=8.0.4 in ./.venv/lib/python3.12/site-packages (from python-slugify[unidecode]<9.0.0,>=8.0.4->spotdl) (8.0.4)\n",
      "Requirement already satisfied: pytube<16.0.0,>=15.0.0 in ./.venv/lib/python3.12/site-packages (from spotdl) (15.0.0)\n",
      "Requirement already satisfied: rapidfuzz<4.0.0,>=3.9.7 in ./.venv/lib/python3.12/site-packages (from spotdl) (3.10.0)\n",
      "Requirement already satisfied: requests<3.0.0,>=2.32.3 in ./.venv/lib/python3.12/site-packages (from spotdl) (2.32.3)\n",
      "Requirement already satisfied: rich<14.0.0,>=13.8.0 in ./.venv/lib/python3.12/site-packages (from spotdl) (13.9.1)\n",
      "Requirement already satisfied: soundcloud-v2<2.0.0,>=1.6.0 in ./.venv/lib/python3.12/site-packages (from spotdl) (1.6.0)\n",
      "Requirement already satisfied: spotipy<3.0.0,>=2.24.0 in ./.venv/lib/python3.12/site-packages (from spotdl) (2.24.0)\n",
      "Requirement already satisfied: syncedlyrics<2.0.0,>=1.0.1 in ./.venv/lib/python3.12/site-packages (from spotdl) (1.0.1)\n",
      "Requirement already satisfied: uvicorn<0.24.0,>=0.23.2 in ./.venv/lib/python3.12/site-packages (from spotdl) (0.23.2)\n",
      "Requirement already satisfied: yt-dlp<2025.0.0,>=2024.8.6 in ./.venv/lib/python3.12/site-packages (from spotdl) (2024.9.27)\n",
      "Requirement already satisfied: ytmusicapi<2.0.0,>=1.4.1 in ./.venv/lib/python3.12/site-packages (from spotdl) (1.8.1)\n",
      "Requirement already satisfied: soupsieve>1.2 in ./.venv/lib/python3.12/site-packages (from beautifulsoup4<5.0.0,>=4.12.3->spotdl) (2.6)\n",
      "Requirement already satisfied: anyio<4.0.0,>=3.7.1 in ./.venv/lib/python3.12/site-packages (from fastapi<0.104.0,>=0.103.0->spotdl) (3.7.1)\n",
      "Requirement already satisfied: starlette<0.28.0,>=0.27.0 in ./.venv/lib/python3.12/site-packages (from fastapi<0.104.0,>=0.103.0->spotdl) (0.27.0)\n",
      "Requirement already satisfied: typing-extensions>=4.5.0 in ./.venv/lib/python3.12/site-packages (from fastapi<0.104.0,>=0.103.0->spotdl) (4.12.2)\n",
      "Requirement already satisfied: annotated-types>=0.6.0 in ./.venv/lib/python3.12/site-packages (from pydantic<3.0.0,>=2.9.0->spotdl) (0.7.0)\n",
      "Requirement already satisfied: pydantic-core==2.23.4 in ./.venv/lib/python3.12/site-packages (from pydantic<3.0.0,>=2.9.0->spotdl) (2.23.4)\n",
      "Requirement already satisfied: jaconv in ./.venv/lib/python3.12/site-packages (from pykakasi<3.0.0,>=2.3.0->spotdl) (0.4.0)\n",
      "Requirement already satisfied: deprecated in ./.venv/lib/python3.12/site-packages (from pykakasi<3.0.0,>=2.3.0->spotdl) (1.2.14)\n",
      "Requirement already satisfied: text-unidecode>=1.3 in ./.venv/lib/python3.12/site-packages (from python-slugify<9.0.0,>=8.0.4->python-slugify[unidecode]<9.0.0,>=8.0.4->spotdl) (1.3)\n",
      "Requirement already satisfied: Unidecode>=1.1.1 in ./.venv/lib/python3.12/site-packages (from python-slugify[unidecode]<9.0.0,>=8.0.4->spotdl) (1.3.8)\n",
      "Requirement already satisfied: charset-normalizer<4,>=2 in ./.venv/lib/python3.12/site-packages (from requests<3.0.0,>=2.32.3->spotdl) (3.3.2)\n",
      "Requirement already satisfied: idna<4,>=2.5 in ./.venv/lib/python3.12/site-packages (from requests<3.0.0,>=2.32.3->spotdl) (3.10)\n",
      "Requirement already satisfied: urllib3<3,>=1.21.1 in ./.venv/lib/python3.12/site-packages (from requests<3.0.0,>=2.32.3->spotdl) (2.2.3)\n",
      "Requirement already satisfied: certifi>=2017.4.17 in ./.venv/lib/python3.12/site-packages (from requests<3.0.0,>=2.32.3->spotdl) (2024.8.30)\n",
      "Requirement already satisfied: markdown-it-py>=2.2.0 in ./.venv/lib/python3.12/site-packages (from rich<14.0.0,>=13.8.0->spotdl) (3.0.0)\n",
      "Requirement already satisfied: pygments<3.0.0,>=2.13.0 in ./.venv/lib/python3.12/site-packages (from rich<14.0.0,>=13.8.0->spotdl) (2.18.0)\n",
      "Requirement already satisfied: dacite>=1.8.1 in ./.venv/lib/python3.12/site-packages (from soundcloud-v2<2.0.0,>=1.6.0->spotdl) (1.8.1)\n",
      "Requirement already satisfied: python-dateutil>=2.8.2 in ./.venv/lib/python3.12/site-packages (from soundcloud-v2<2.0.0,>=1.6.0->spotdl) (2.9.0.post0)\n",
      "Requirement already satisfied: redis>=3.5.3 in ./.venv/lib/python3.12/site-packages (from spotipy<3.0.0,>=2.24.0->spotdl) (5.1.0)\n",
      "Requirement already satisfied: click>=7.0 in ./.venv/lib/python3.12/site-packages (from uvicorn<0.24.0,>=0.23.2->spotdl) (8.1.7)\n",
      "Requirement already satisfied: h11>=0.8 in ./.venv/lib/python3.12/site-packages (from uvicorn<0.24.0,>=0.23.2->spotdl) (0.14.0)\n",
      "Requirement already satisfied: brotli in ./.venv/lib/python3.12/site-packages (from yt-dlp<2025.0.0,>=2024.8.6->spotdl) (1.1.0)\n",
      "Requirement already satisfied: pycryptodomex in ./.venv/lib/python3.12/site-packages (from yt-dlp<2025.0.0,>=2024.8.6->spotdl) (3.21.0)\n",
      "Requirement already satisfied: websockets>=13.0 in ./.venv/lib/python3.12/site-packages (from yt-dlp<2025.0.0,>=2024.8.6->spotdl) (13.1)\n",
      "Requirement already satisfied: sniffio>=1.1 in ./.venv/lib/python3.12/site-packages (from anyio<4.0.0,>=3.7.1->fastapi<0.104.0,>=0.103.0->spotdl) (1.3.1)\n",
      "Requirement already satisfied: mdurl~=0.1 in ./.venv/lib/python3.12/site-packages (from markdown-it-py>=2.2.0->rich<14.0.0,>=13.8.0->spotdl) (0.1.2)\n",
      "Requirement already satisfied: six>=1.5 in ./.venv/lib/python3.12/site-packages (from python-dateutil>=2.8.2->soundcloud-v2<2.0.0,>=1.6.0->spotdl) (1.16.0)\n",
      "Requirement already satisfied: wrapt<2,>=1.10 in ./.venv/lib/python3.12/site-packages (from deprecated->pykakasi<3.0.0,>=2.3.0->spotdl) (1.16.0)\n",
      "Requirement already satisfied: votify in ./.venv/lib/python3.12/site-packages (1.4.2)\n",
      "Requirement already satisfied: click in ./.venv/lib/python3.12/site-packages (from votify) (8.1.7)\n",
      "Requirement already satisfied: inquirerpy in ./.venv/lib/python3.12/site-packages (from votify) (0.3.4)\n",
      "Requirement already satisfied: pillow in ./.venv/lib/python3.12/site-packages (from votify) (10.4.0)\n",
      "Requirement already satisfied: protobuf in ./.venv/lib/python3.12/site-packages (from votify) (4.25.5)\n",
      "Requirement already satisfied: pybase62 in ./.venv/lib/python3.12/site-packages (from votify) (1.0.0)\n",
      "Requirement already satisfied: pycryptodome in ./.venv/lib/python3.12/site-packages (from votify) (3.21.0)\n",
      "Requirement already satisfied: pywidevine in ./.venv/lib/python3.12/site-packages (from votify) (1.8.0)\n",
      "Requirement already satisfied: re-unplayplay in ./.venv/lib/python3.12/site-packages (from votify) (1.2.3)\n",
      "Requirement already satisfied: yt-dlp in ./.venv/lib/python3.12/site-packages (from votify) (2024.9.27)\n",
      "Requirement already satisfied: pfzy<0.4.0,>=0.3.1 in ./.venv/lib/python3.12/site-packages (from inquirerpy->votify) (0.3.4)\n",
      "Requirement already satisfied: prompt-toolkit<4.0.0,>=3.0.1 in ./.venv/lib/python3.12/site-packages (from inquirerpy->votify) (3.0.48)\n",
      "Requirement already satisfied: PyYAML<7.0.0,>=6.0.1 in ./.venv/lib/python3.12/site-packages (from pywidevine->votify) (6.0.2)\n",
      "Requirement already satisfied: Unidecode<2.0.0,>=1.3.7 in ./.venv/lib/python3.12/site-packages (from pywidevine->votify) (1.3.8)\n",
      "Requirement already satisfied: pymp4<2.0.0,>=1.4.0 in ./.venv/lib/python3.12/site-packages (from pywidevine->votify) (1.4.0)\n",
      "Requirement already satisfied: requests<3.0.0,>=2.31.0 in ./.venv/lib/python3.12/site-packages (from pywidevine->votify) (2.32.3)\n",
      "Requirement already satisfied: brotli in ./.venv/lib/python3.12/site-packages (from yt-dlp->votify) (1.1.0)\n",
      "Requirement already satisfied: certifi in ./.venv/lib/python3.12/site-packages (from yt-dlp->votify) (2024.8.30)\n",
      "Requirement already satisfied: mutagen in ./.venv/lib/python3.12/site-packages (from yt-dlp->votify) (1.47.0)\n",
      "Requirement already satisfied: pycryptodomex in ./.venv/lib/python3.12/site-packages (from yt-dlp->votify) (3.21.0)\n",
      "Requirement already satisfied: urllib3<3,>=1.26.17 in ./.venv/lib/python3.12/site-packages (from yt-dlp->votify) (2.2.3)\n",
      "Requirement already satisfied: websockets>=13.0 in ./.venv/lib/python3.12/site-packages (from yt-dlp->votify) (13.1)\n",
      "Requirement already satisfied: wcwidth in ./.venv/lib/python3.12/site-packages (from prompt-toolkit<4.0.0,>=3.0.1->inquirerpy->votify) (0.2.13)\n",
      "Requirement already satisfied: construct==2.8.8 in ./.venv/lib/python3.12/site-packages (from pymp4<2.0.0,>=1.4.0->pywidevine->votify) (2.8.8)\n",
      "Requirement already satisfied: charset-normalizer<4,>=2 in ./.venv/lib/python3.12/site-packages (from requests<3.0.0,>=2.31.0->pywidevine->votify) (3.3.2)\n",
      "Requirement already satisfied: idna<4,>=2.5 in ./.venv/lib/python3.12/site-packages (from requests<3.0.0,>=2.31.0->pywidevine->votify) (3.10)\n"
     ]
    }
   ],
   "source": [
    "!pip install spotdl #virtual env setup\n",
    "!pip install votify"
   ]
  },
  {
   "cell_type": "code",
   "execution_count": 5,
   "metadata": {},
   "outputs": [],
   "source": [
    "import votify # https://github.com/glomatico/votify - will likely be taken down soon!"
   ]
  },
  {
   "cell_type": "code",
   "execution_count": 7,
   "metadata": {},
   "outputs": [
    {
     "name": "stdout",
     "output_type": "stream",
     "text": [
      "[INFO     13:35:38] Starting Votify\n",
      "[INFO     13:35:39] (URL 1/1) Checking \"https://open.spotify.com/track/18gqCQzqYb0zvurQPlRkpo\"\n",
      "[INFO     13:35:39] (Track 1/1 from URL 1/1) Downloading \"Never Gonna Give You Up - 2022 Remaster\"\n",
      "\u001b[K[download] 100% of    4.09MiB in \u001b[1;37m00:00:00\u001b[0m at \u001b[0;32m11.89MiB/s\u001b[0m;33m00:00\u001b[0m[INFO     13:35:41] Done (0 error(s))\n"
     ]
    }
   ],
   "source": [
    "!votify \"https://open.spotify.com/album/2Wiyo7LzdeBCsVZiRA6vVZ?si=YHEqiYTnSFKa-Tdsg5ZA6Q\" --force-premium true --save-cover true --audio-quality vorbis-high\n"
   ]
  }
 ],
 "metadata": {
  "kernelspec": {
   "display_name": ".venv",
   "language": "python",
   "name": "python3"
  },
  "language_info": {
   "codemirror_mode": {
    "name": "ipython",
    "version": 3
   },
   "file_extension": ".py",
   "mimetype": "text/x-python",
   "name": "python",
   "nbconvert_exporter": "python",
   "pygments_lexer": "ipython3",
   "version": "3.12.3"
  }
 },
 "nbformat": 4,
 "nbformat_minor": 2
}
